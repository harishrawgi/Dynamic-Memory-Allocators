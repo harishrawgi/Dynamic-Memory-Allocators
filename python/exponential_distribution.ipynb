{
 "cells": [
  {
   "cell_type": "code",
   "execution_count": null,
   "metadata": {},
   "outputs": [],
   "source": [
    "import scipy.stats as stats\n",
    "import matplotlib.pyplot as plt\n",
    "import numpy as np\n",
    "\n",
    "lower, upper, scale = 100, 2000, 1000\n",
    "X = stats.truncexpon(b=(upper-lower)/scale, loc=lower, scale=scale)\n",
    "\n",
    "data = np.asarray(X.rvs(1000))\n",
    "\n",
    "\n",
    "print(data)\n",
    "\n",
    "np.savetxt('exp.txt', data)"
   ]
  }
 ],
 "metadata": {
  "kernelspec": {
   "display_name": "Python 3",
   "language": "python",
   "name": "python3"
  },
  "language_info": {
   "codemirror_mode": {
    "name": "ipython",
    "version": 3
   },
   "file_extension": ".py",
   "mimetype": "text/x-python",
   "name": "python",
   "nbconvert_exporter": "python",
   "pygments_lexer": "ipython3",
   "version": "3.7.3"
  }
 },
 "nbformat": 4,
 "nbformat_minor": 2
}
